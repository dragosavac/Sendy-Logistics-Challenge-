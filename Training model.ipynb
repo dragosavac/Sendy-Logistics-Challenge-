{
 "cells": [
  {
   "cell_type": "code",
   "execution_count": 368,
   "metadata": {},
   "outputs": [],
   "source": [
    "import pandas as pd\n",
    "import numpy as np\n",
    "import datetime\n",
    "from matplotlib import pyplot\n",
    "from sklearn.preprocessing import LabelEncoder\n",
    "from sklearn.ensemble import RandomForestRegressor\n",
    "from sklearn.model_selection import train_test_split\n",
    "from sklearn.model_selection import GridSearchCV\n",
    "from sklearn.metrics import mean_squared_error\n",
    "\n"
   ]
  },
  {
   "cell_type": "code",
   "execution_count": 369,
   "metadata": {},
   "outputs": [],
   "source": [
    "train_data = pd.read_csv('/Users/rade_dragosavac/PycharmProjects/SendyLogisticsChallenge /Data/Train.csv')\n",
    "riders_data = pd.read_csv('/Users/rade_dragosavac/PycharmProjects/SendyLogisticsChallenge /Data/Riders.csv')\n",
    "test_data = pd.read_csv('/Users/rade_dragosavac/PycharmProjects/SendyLogisticsChallenge /Data/Test.csv')\n"
   ]
  },
  {
   "cell_type": "code",
   "execution_count": 370,
   "metadata": {},
   "outputs": [],
   "source": [
    "def time_from_midnight_in_seconds(data, column):\n",
    "    data[column] = pd.to_datetime(data[column])\n",
    "    return (data[column] - pd.to_datetime(pd.to_datetime('today').date())).astype('timedelta64[s]')\n",
    "\n",
    "\n",
    "def delta_time(dataset, higher_time, lower_time):\n",
    "    return dataset[higher_time] - dataset[lower_time]\n",
    "\n",
    "def time_to_day_part(time):\n",
    "    hours = time/3600\n",
    "    if hours < 6:\n",
    "        return ('Night')\n",
    "    if hours < 12:\n",
    "        return ('Morning')\n",
    "    if hours < 18:\n",
    "        return ('Afternoon')\n",
    "    else:\n",
    "        return ('Evening')\n",
    "    \n",
    "def calculate_bearing(lat1, lng1, lat2, lng2):\n",
    "        lat1 = np.deg2rad(lat1)\n",
    "        lat2 = np.deg2rad(lat2)\n",
    "        diffLong = np.deg2rad(lng2 - lng1)\n",
    "        x = np.sin(diffLong) * np.cos(lat2)\n",
    "        y = np.cos(lat1) * np.sin(lat2) - (np.sin(lat1)\n",
    "                                     * np.cos(lat2) * np.cos(diffLong))\n",
    "        initial_bearing = np.arctan2(x, y)\n",
    "        # Now we have the initial bearing but math.atan2 return values\n",
    "        # from -180° to + 180° which is not what we want for a compass bearing\n",
    "        # The solution is to normalize the initial bearing as shown below\n",
    "        initial_bearing = np.rad2deg(initial_bearing)\n",
    "        compass_bearing = (initial_bearing+360) % 360\n",
    "        return compass_bearing    \n"
   ]
  },
  {
   "cell_type": "code",
   "execution_count": 371,
   "metadata": {},
   "outputs": [],
   "source": [
    "# converting time in seconds from midnight\n",
    "train_data['Placement - Time'] = time_from_midnight_in_seconds(train_data, 'Placement - Time')\n",
    "train_data['Confirmation - Time'] = time_from_midnight_in_seconds(train_data, 'Confirmation - Time')\n",
    "train_data['Pickup - Time'] = time_from_midnight_in_seconds(train_data, 'Pickup - Time')\n",
    "train_data['Arrival at Pickup - Time'] = time_from_midnight_in_seconds(train_data, 'Arrival at Pickup - Time')\n",
    "train_data['Arrival at Destination - Time'] = time_from_midnight_in_seconds(train_data, 'Arrival at Destination - Time')\n",
    "\n",
    "# converting time in seconds from midnight for test data\n",
    "test_data['Placement - Time'] = time_from_midnight_in_seconds(test_data, 'Placement - Time')\n",
    "test_data['Confirmation - Time'] = time_from_midnight_in_seconds(test_data, 'Confirmation - Time')\n",
    "test_data['Pickup - Time'] = time_from_midnight_in_seconds(test_data, 'Pickup - Time')\n",
    "test_data['Arrival at Pickup - Time'] = time_from_midnight_in_seconds(test_data, 'Arrival at Pickup - Time')\n"
   ]
  },
  {
   "cell_type": "code",
   "execution_count": 276,
   "metadata": {},
   "outputs": [],
   "source": [
    "# calculating delta_time for train data\n",
    "delta_confirm_place_train = delta_time(train_data, 'Confirmation - Time', 'Placement - Time')\n",
    "delta_pick_arr_confirm_train = delta_time(train_data, 'Arrival at Pickup - Time', 'Confirmation - Time')\n",
    "delta_pickup_confirm_train = delta_time(train_data, 'Pickup - Time', 'Arrival at Pickup - Time')\n",
    "delta_arrival_pickup_train = delta_time(train_data, 'Arrival at Destination - Time', 'Pickup - Time')\n",
    "delta_placement_arrival_train = delta_time(train_data, 'Arrival at Destination - Time', 'Placement - Time')\n",
    "\n",
    "delta_confirm_place_test = delta_time(test_data, 'Confirmation - Time', 'Placement - Time')\n",
    "delta_pick_arr_confirm_test = delta_time(test_data, 'Arrival at Pickup - Time', 'Confirmation - Time')\n",
    "delta_pickup_confirm_test = delta_time(test_data, 'Pickup - Time', 'Arrival at Pickup - Time')\n"
   ]
  },
  {
   "cell_type": "code",
   "execution_count": 372,
   "metadata": {},
   "outputs": [],
   "source": [
    "train_with_rider_info = train_data.merge(riders_data, on='Rider Id')\n",
    "test_with_rider_info = test_data.merge(riders_data, on='Rider Id')\n"
   ]
  },
  {
   "cell_type": "code",
   "execution_count": 373,
   "metadata": {},
   "outputs": [],
   "source": [
    "train_with_rider_info = train_with_rider_info[train_with_rider_info['Placement - Weekday (Mo = 1)'] == train_with_rider_info['Confirmation - Weekday (Mo = 1)']]\n",
    "train_with_rider_info = train_with_rider_info[train_with_rider_info['Placement - Day of Month'] == train_with_rider_info['Confirmation - Day of Month']]\n"
   ]
  },
  {
   "cell_type": "code",
   "execution_count": 374,
   "metadata": {},
   "outputs": [],
   "source": [
    "train_with_rider_info['Temperature'].fillna(train_with_rider_info['Temperature'].mean(), inplace=True)\n",
    "test_with_rider_info['Temperature'].fillna(test_with_rider_info['Temperature'].mean(), inplace=True)\n"
   ]
  },
  {
   "cell_type": "code",
   "execution_count": 375,
   "metadata": {},
   "outputs": [],
   "source": [
    "# label encoding of personal/business column for train data\n",
    "labelencoder_personal_business = LabelEncoder()\n",
    "train_with_rider_info['Personal or Business'] = labelencoder_personal_business.fit_transform(train_with_rider_info['Personal or Business'])\n",
    "\n",
    "# label encoding of personal/business column for test data\n",
    "labelencoder_personal_business = LabelEncoder()\n",
    "test_with_rider_info['Personal or Business'] = labelencoder_personal_business.fit_transform(test_with_rider_info['Personal or Business'])\n"
   ]
  },
  {
   "cell_type": "code",
   "execution_count": 376,
   "metadata": {},
   "outputs": [],
   "source": [
    "# one hot encoding of the train_data['Platform Type'] column\n",
    "train_with_rider_info['Platform Type'] = train_with_rider_info['Platform Type'].astype('category')\n",
    "train_with_rider_info = pd.concat([train_with_rider_info.drop(columns=['Platform Type']), pd.get_dummies(train_with_rider_info['Platform Type'])], axis=1)\n",
    "\n"
   ]
  },
  {
   "cell_type": "code",
   "execution_count": 377,
   "metadata": {},
   "outputs": [],
   "source": [
    "# one hot encoding of the test_data['Platform Type'] column\n",
    "test_with_rider_info['Platform Type'] = test_with_rider_info['Platform Type'].astype('category')\n",
    "test_with_rider_info = pd.concat([test_with_rider_info.drop(columns=['Platform Type']), pd.get_dummies(test_with_rider_info['Platform Type'])], axis=1)\n"
   ]
  },
  {
   "cell_type": "code",
   "execution_count": 378,
   "metadata": {},
   "outputs": [],
   "source": [
    "bearing_test = calculate_bearing(test_with_rider_info['Pickup Lat'], test_with_rider_info['Pickup Long'],\n",
    "                            test_with_rider_info['Destination Lat'], test_with_rider_info['Destination Long'])\n",
    "\n",
    "bearing_train = calculate_bearing(train_with_rider_info['Pickup Lat'], train_with_rider_info['Pickup Long'],\n",
    "                            train_with_rider_info['Destination Lat'], train_with_rider_info['Destination Long'])\n"
   ]
  },
  {
   "cell_type": "code",
   "execution_count": 379,
   "metadata": {},
   "outputs": [],
   "source": [
    "test_with_rider_info['Bearing'] = bearing_test\n",
    "train_with_rider_info['Bearing'] = bearing_train\n"
   ]
  },
  {
   "cell_type": "code",
   "execution_count": 380,
   "metadata": {},
   "outputs": [],
   "source": [
    "# drop redundant columns train data\n",
    "train_with_rider_info.drop(columns=['Confirmation - Day of Month', 'Confirmation - Weekday (Mo = 1)',\n",
    "                                    'Arrival at Pickup - Day of Month','Arrival at Pickup - Weekday (Mo = 1)',\n",
    "                                    'Pickup - Day of Month', 'Pickup - Weekday (Mo = 1)',\n",
    "                                    'Arrival at Destination - Day of Month',\n",
    "                                    'Arrival at Destination - Weekday (Mo = 1)',\n",
    "                                    'Arrival at Destination - Time',\n",
    "                                    'Pickup Lat', 'Pickup Long',\n",
    "                                    'Destination Lat', 'Destination Long',\n",
    "                                    'Vehicle Type', 'Order No',\n",
    "                                    'User Id', 'Rider Id',\n",
    "                                    'Precipitation in millimeters'], inplace=True)\n"
   ]
  },
  {
   "cell_type": "code",
   "execution_count": 381,
   "metadata": {},
   "outputs": [],
   "source": [
    "# drop redundant columns test data\n",
    "test_with_rider_info.drop(columns=['Confirmation - Day of Month', 'Confirmation - Weekday (Mo = 1)',\n",
    "                                   'Arrival at Pickup - Day of Month', 'Arrival at Pickup - Weekday (Mo = 1)',\n",
    "                                   'Pickup - Day of Month', 'Pickup - Weekday (Mo = 1)',\n",
    "                                   'Vehicle Type', 'User Id', 'Rider Id', 'Precipitation in millimeters',\n",
    "                                   'Pickup Lat', 'Pickup Long',\n",
    "                                   'Destination Lat', 'Destination Long'], inplace=True)\n"
   ]
  },
  {
   "cell_type": "code",
   "execution_count": 382,
   "metadata": {},
   "outputs": [],
   "source": [
    "train_with_rider_info.rename(columns={1: \"Platform Type 1\", 2: \"Platform Type 2\",\n",
    "                                      3: \"Platform Type 3\", 4: \"Platform Type 4\"}, inplace=True)\n",
    "\n",
    "test_with_rider_info.rename(columns={1: \"Platform Type 1\", 2: \"Platform Type 2\",\n",
    "                                     3: \"Platform Type 3\", 4: \"Platform Type 4\"}, inplace=True)\n"
   ]
  },
  {
   "cell_type": "code",
   "execution_count": 383,
   "metadata": {},
   "outputs": [],
   "source": [
    "train_with_rider_info.rename(columns={'Placement - Day of Month': 'Day of Month',\n",
    "                                      'Placement - Weekday (Mo = 1)': 'Weekday (Mo = 1)'}, inplace=True)\n",
    "\n",
    "test_with_rider_info.rename(columns={'Placement - Day of Month': 'Day of Month',\n",
    "                                     'Placement - Weekday (Mo = 1)': 'Weekday (Mo = 1)'}, inplace=True)\n"
   ]
  },
  {
   "cell_type": "code",
   "execution_count": 384,
   "metadata": {},
   "outputs": [],
   "source": [
    "# one hot encoding of the test_data['Weekday (Mo = 1)] column\n",
    "test_with_rider_info['Weekday (Mo = 1)'] = test_with_rider_info['Weekday (Mo = 1)'].astype('category')\n",
    "test_with_rider_info = pd.concat([test_with_rider_info.drop(columns=['Weekday (Mo = 1)']), pd.get_dummies(test_with_rider_info['Weekday (Mo = 1)'])], axis=1)\n"
   ]
  },
  {
   "cell_type": "code",
   "execution_count": 385,
   "metadata": {},
   "outputs": [],
   "source": [
    "# one hot encoding of the train_data['Weekday (Mo = 1)] column\n",
    "train_with_rider_info['Weekday (Mo = 1)'] = train_with_rider_info['Weekday (Mo = 1)'].astype('category')\n",
    "train_with_rider_info = pd.concat([train_with_rider_info.drop(columns=['Weekday (Mo = 1)']), pd.get_dummies(train_with_rider_info['Weekday (Mo = 1)'])], axis=1)\n"
   ]
  },
  {
   "cell_type": "code",
   "execution_count": 386,
   "metadata": {},
   "outputs": [],
   "source": [
    "\n",
    "train_with_rider_info.rename(columns={1: 'Monday', 2: 'Tuesday', 3: 'Wednesday', \n",
    "                                      4: 'Thursday', 5: 'Friday', 6: 'Saturday',\n",
    "                                      7: 'Sunday'\n",
    "                                      }, inplace=True)\n",
    "\n",
    "test_with_rider_info.rename(columns={1: 'Monday', 2: 'Tuesday', 3: 'Wednesday', \n",
    "                                      4: 'Thursday', 5: 'Friday', 6: 'Saturday',\n",
    "                                      7: 'Sunday'}, inplace=True)\n"
   ]
  },
  {
   "cell_type": "code",
   "execution_count": 256,
   "metadata": {},
   "outputs": [],
   "source": [
    "# labeling part of the day in train data \n",
    "# train_with_rider_info['Placement - Time'] = train_with_rider_info['Placement - Time'].apply(time_to_day_part)\n",
    "# train_with_rider_info['Confirmation - Time'] = train_with_rider_info['Confirmation - Time'].apply(time_to_day_part)\n",
    "# train_with_rider_info['Arrival at Pickup - Time'] = train_with_rider_info['Arrival at Pickup - Time'].apply(time_to_day_part)\n",
    "# train_with_rider_info['Pickup - Time'] = train_with_rider_info['Pickup - Time'].apply(time_to_day_part)\n"
   ]
  },
  {
   "cell_type": "code",
   "execution_count": 257,
   "metadata": {},
   "outputs": [],
   "source": [
    "# labeling part of the day in test data\n",
    "# test_with_rider_info['Placement - Time'] = test_with_rider_info['Placement - Time'].apply(time_to_day_part)\n",
    "# test_with_rider_info['Confirmation - Time'] = test_with_rider_info['Confirmation - Time'].apply(time_to_day_part)\n",
    "# test_with_rider_info['Arrival at Pickup - Time'] = test_with_rider_info['Arrival at Pickup - Time'].apply(time_to_day_part)\n",
    "# test_with_rider_info['Pickup - Time'] = test_with_rider_info['Pickup - Time'].apply(time_to_day_part)\n"
   ]
  },
  {
   "cell_type": "code",
   "execution_count": 413,
   "metadata": {},
   "outputs": [],
   "source": [
    "# label encoding, one hot encoding, and renaming of times\n",
    "# labelencoder = LabelEncoder()\n",
    "# train_with_rider_info['Placement - Time'] = labelencoder.fit_transform(train_with_rider_info['Placement - Time'])\n",
    "# train_with_rider_info['Placement - Time'] = train_with_rider_info['Placement - Time'].astype('category')\n",
    "# train_with_rider_info = pd.concat([train_with_rider_info.drop(columns=['Placement - Time']), pd.get_dummies(train_with_rider_info['Placement - Time'])], axis=1)\n",
    "\n"
   ]
  },
  {
   "cell_type": "code",
   "execution_count": 388,
   "metadata": {},
   "outputs": [],
   "source": [
    "X = train_with_rider_info.drop(columns='Time from Pickup to Arrival')\n",
    "Y = train_with_rider_info['Time from Pickup to Arrival']\n"
   ]
  },
  {
   "cell_type": "code",
   "execution_count": 389,
   "metadata": {},
   "outputs": [],
   "source": [
    "X_train, X_test, y_train, y_test = train_test_split(X, Y, test_size=0.2, random_state=0)\n"
   ]
  },
  {
   "cell_type": "code",
   "execution_count": 411,
   "metadata": {},
   "outputs": [],
   "source": [
    "regressor = RandomForestRegressor(n_estimators=228, \n",
    "                                  max_depth=100,\n",
    "                                  max_features=4, min_samples_leaf=4,\n",
    "                                  min_samples_split=8,\n",
    "                                  random_state=0)\n",
    "regressor.fit(X_train, y_train)\n",
    "y_pred = regressor.predict(X_test)\n"
   ]
  },
  {
   "cell_type": "code",
   "execution_count": 412,
   "metadata": {},
   "outputs": [
    {
     "data": {
      "text/plain": [
       "174.9888379758989"
      ]
     },
     "execution_count": 412,
     "metadata": {},
     "output_type": "execute_result"
    }
   ],
   "source": [
    "mean_squared_error(y_test/60, y_pred/60)\n"
   ]
  },
  {
   "cell_type": "code",
   "execution_count": 406,
   "metadata": {},
   "outputs": [],
   "source": [
    "grid_param = {\n",
    "    'n_estimators': list(range(220,230,2)),\n",
    "    'max_depth': [80, 90, 100, 110],\n",
    "    'max_features': [2, 3, 4],\n",
    "    'min_samples_leaf': [3, 4, 5],\n",
    "    'min_samples_split': [8, 10, 12],\n",
    "}\n"
   ]
  },
  {
   "cell_type": "code",
   "execution_count": 407,
   "metadata": {},
   "outputs": [],
   "source": [
    "gd_sr = GridSearchCV(\n",
    "    estimator=RandomForestRegressor(),\n",
    "    param_grid=grid_param,\n",
    "    scoring='neg_mean_absolute_error',\n",
    "    cv=3,\n",
    "    n_jobs=-1)\n"
   ]
  },
  {
   "cell_type": "code",
   "execution_count": 408,
   "metadata": {
    "scrolled": true
   },
   "outputs": [
    {
     "data": {
      "text/plain": [
       "GridSearchCV(cv=3, error_score='raise-deprecating',\n",
       "       estimator=RandomForestRegressor(bootstrap=True, criterion='mse', max_depth=None,\n",
       "           max_features='auto', max_leaf_nodes=None,\n",
       "           min_impurity_decrease=0.0, min_impurity_split=None,\n",
       "           min_samples_leaf=1, min_samples_split=2,\n",
       "           min_weight_fraction_leaf=0.0, n_estimators='warn', n_jobs=None,\n",
       "           oob_score=False, random_state=None, verbose=0, warm_start=False),\n",
       "       fit_params=None, iid='warn', n_jobs=-1,\n",
       "       param_grid={'n_estimators': [220, 222, 224, 226, 228], 'max_depth': [80, 90, 100, 110], 'max_features': [2, 3, 4], 'min_samples_leaf': [3, 4, 5], 'min_samples_split': [8, 10, 12]},\n",
       "       pre_dispatch='2*n_jobs', refit=True, return_train_score='warn',\n",
       "       scoring='neg_mean_absolute_error', verbose=0)"
      ]
     },
     "execution_count": 408,
     "metadata": {},
     "output_type": "execute_result"
    }
   ],
   "source": [
    "gd_sr.fit(X_train, y_train)\n"
   ]
  },
  {
   "cell_type": "code",
   "execution_count": 409,
   "metadata": {},
   "outputs": [],
   "source": [
    "best_parameters = gd_sr.best_params_\n"
   ]
  },
  {
   "cell_type": "code",
   "execution_count": 410,
   "metadata": {},
   "outputs": [
    {
     "data": {
      "text/plain": [
       "{'max_depth': 100,\n",
       " 'max_features': 4,\n",
       " 'min_samples_leaf': 4,\n",
       " 'min_samples_split': 8,\n",
       " 'n_estimators': 228}"
      ]
     },
     "execution_count": 410,
     "metadata": {},
     "output_type": "execute_result"
    }
   ],
   "source": [
    "best_parameters"
   ]
  },
  {
   "cell_type": "code",
   "execution_count": 357,
   "metadata": {},
   "outputs": [],
   "source": [
    "final_predict = regressor.predict(test_with_rider_info.drop(columns='Order No'))\n",
    "test_with_rider_info['Time from Pickup to Arrival'] = final_predict\n",
    "\n"
   ]
  },
  {
   "cell_type": "code",
   "execution_count": null,
   "metadata": {},
   "outputs": [],
   "source": [
    "submission = test_with_rider_info[['Order No','Time from Pickup to Arrival' ]]\n",
    "submission['Time from Pickup to Arrival'] = submission['Time from Pickup to Arrival'].astype(int)\n"
   ]
  },
  {
   "cell_type": "code",
   "execution_count": 367,
   "metadata": {},
   "outputs": [],
   "source": [
    "submission.to_csv('/Users/rade_dragosavac/PycharmProjects/SendyLogisticsChallenge /Data/Submission.csv', index=False)\n"
   ]
  }
 ],
 "metadata": {
  "kernelspec": {
   "display_name": "Python 3",
   "language": "python",
   "name": "python3"
  },
  "language_info": {
   "codemirror_mode": {
    "name": "ipython",
    "version": 3
   },
   "file_extension": ".py",
   "mimetype": "text/x-python",
   "name": "python",
   "nbconvert_exporter": "python",
   "pygments_lexer": "ipython3",
   "version": "3.7.1"
  }
 },
 "nbformat": 4,
 "nbformat_minor": 2
}
