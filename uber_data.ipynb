{
 "cells": [
  {
   "cell_type": "markdown",
   "metadata": {},
   "source": [
    "# Uber Data"
   ]
  },
  {
   "cell_type": "code",
   "execution_count": 56,
   "metadata": {},
   "outputs": [],
   "source": [
    "import os\n",
    "import ast\n",
    "import glob\n",
    "import numpy as np\n",
    "import pandas as pd\n",
    "from collections import Counter\n",
    "from shapely.geometry import Point\n",
    "from shapely.geometry.polygon import Polygon"
   ]
  },
  {
   "cell_type": "code",
   "execution_count": 57,
   "metadata": {},
   "outputs": [
    {
     "data": {
      "text/plain": [
       "Index(['Personal or Business', 'Day of Month', 'Placement - Time',\n",
       "       'Confirmation - Time', 'Arrival at Pickup - Time', 'Pickup - Time',\n",
       "       'Distance (KM)', 'Temperature', 'Pickup Lat', 'Pickup Long',\n",
       "       'Destination Lat', 'Destination Long', 'No_Of_Orders', 'Age',\n",
       "       'Average_Rating', 'No_of_Ratings', 'Platform Type 1', 'Platform Type 2',\n",
       "       'Platform Type 3', 'Platform Type 4', 'Bearing', 'Monday', 'Tuesday',\n",
       "       'Wednesday', 'Thursday', 'Friday', 'Saturday', 'Sunday'],\n",
       "      dtype='object')"
      ]
     },
     "execution_count": 57,
     "metadata": {},
     "output_type": "execute_result"
    }
   ],
   "source": [
    "X = pd.read_csv('X.csv')\n",
    "polygon_points = pd.read_json('Data/uber/540_hexclusters.json',orient='values')\n",
    "X.columns\n",
    "X = X[0:100]"
   ]
  },
  {
   "cell_type": "code",
   "execution_count": 59,
   "metadata": {},
   "outputs": [],
   "source": [
    "def point_in_polygon(data, polygons_df):\n",
    "    out_pickup = list()\n",
    "    for n,coord in enumerate(data['Pickup Long']):\n",
    "        list_movid = list()\n",
    "        for k,pol in enumerate(polygons_df['features']):\n",
    "            mov_id = pol['properties']['MOVEMENT_ID']\n",
    "            poly = pol['geometry']['coordinates'][0]\n",
    "            polygon = Polygon(poly)\n",
    "            point = Point(coord,data.loc[n,'Pickup Lat'])\n",
    "            if polygon.contains(point) and point.within(polygon):\n",
    "                list_movid.append(mov_id)\n",
    "        out_pickup.append(list_movid)\n",
    "    out_dest = list()\n",
    "    for n,coord in enumerate(data['Destination Long']):\n",
    "        list_movid = list()\n",
    "        for k,pol in enumerate(polygons_df['features']):\n",
    "            mov_id = pol['properties']['MOVEMENT_ID']\n",
    "            poly = pol['geometry']['coordinates'][0]\n",
    "            polygon = Polygon(poly)\n",
    "            point = Point(coord,data.loc[n,'Destination Lat'])\n",
    "            if polygon.contains(point) and point.within(polygon):\n",
    "                list_movid.append(mov_id)\n",
    "        out_dest.append(list_movid)\n",
    "    return out_pickup, out_dest\n",
    "\n",
    "\n",
    "def cleanup_lists(lst):\n",
    "    out = list()\n",
    "    for n,v in enumerate(lst):\n",
    "        if len(v) == 0:\n",
    "            out.append(-999)\n",
    "\n",
    "        elif len(v) == 1:\n",
    "            out.append(int(v[0]))\n",
    "        else:\n",
    "            out.append(-888)\n",
    "    return out"
   ]
  },
  {
   "cell_type": "code",
   "execution_count": 60,
   "metadata": {},
   "outputs": [
    {
     "name": "stdout",
     "output_type": "stream",
     "text": [
      "Counter({1: 100})\n",
      "Counter({1: 100})\n"
     ]
    }
   ],
   "source": [
    "pickup1, dest1 = point_in_polygon(data=X, polygons_df=polygon_points)\n",
    "print(Counter([len(lst) for lst in dest1]))\n",
    "print(Counter([len(lst) for lst in pickup1]))\n",
    "dest1 = cleanup_lists(lst=dest1)\n",
    "pickup1 = cleanup_lists(lst=pickup1)"
   ]
  },
  {
   "cell_type": "code",
   "execution_count": null,
   "metadata": {},
   "outputs": [],
   "source": []
  }
 ],
 "metadata": {
  "kernelspec": {
   "display_name": "Python 3",
   "language": "python",
   "name": "python3"
  },
  "language_info": {
   "codemirror_mode": {
    "name": "ipython",
    "version": 3
   },
   "file_extension": ".py",
   "mimetype": "text/x-python",
   "name": "python",
   "nbconvert_exporter": "python",
   "pygments_lexer": "ipython3",
   "version": "3.7.1"
  }
 },
 "nbformat": 4,
 "nbformat_minor": 2
}
