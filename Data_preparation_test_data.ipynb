{
 "cells": [
  {
   "cell_type": "code",
   "execution_count": 79,
   "metadata": {},
   "outputs": [],
   "source": [
    "import pandas as pd\n",
    "from sklearn.preprocessing import LabelEncoder\n"
   ]
  },
  {
   "cell_type": "code",
   "execution_count": 80,
   "metadata": {},
   "outputs": [],
   "source": [
    "train_data = pd.read_csv('/Users/rade_dragosavac/PycharmProjects/SendyLogisticsChallenge /Data/Train.csv')\n",
    "riders_data = pd.read_csv('/Users/rade_dragosavac/PycharmProjects/SendyLogisticsChallenge /Data/Riders.csv')\n",
    "test_data = pd.read_csv('/Users/rade_dragosavac/PycharmProjects/SendyLogisticsChallenge /Data/Test.csv')\n"
   ]
  },
  {
   "cell_type": "code",
   "execution_count": 81,
   "metadata": {},
   "outputs": [],
   "source": [
    "def time_from_midnight_in_seconds(column):\n",
    "    train_data[column] = pd.to_datetime(train_data[column])\n",
    "    return (train_data[column] - pd.to_datetime(pd.to_datetime('today').date())).astype('timedelta64[s]')\n",
    "\n",
    "\n",
    "def delta_time(dataset, higher_time, lower_time):\n",
    "    return dataset[higher_time] - dataset[lower_time]\n",
    "\n",
    "\n",
    "def average(list_data):\n",
    "    return sum(list_data)/len(list_data)+1\n"
   ]
  },
  {
   "cell_type": "code",
   "execution_count": 82,
   "metadata": {},
   "outputs": [],
   "source": [
    "# converting time in seconds from midnight\n",
    "test_data['Placement - Time'] = time_from_midnight_in_seconds('Placement - Time')\n",
    "test_data['Confirmation - Time'] = time_from_midnight_in_seconds('Confirmation - Time')\n",
    "test_data['Pickup - Time'] = time_from_midnight_in_seconds('Pickup - Time')\n",
    "test_data['Arrival at Pickup - Time'] = time_from_midnight_in_seconds('Arrival at Pickup - Time')\n",
    "test_data['Arrival at Destination - Time'] = time_from_midnight_in_seconds('Arrival at Destination - Time')\n"
   ]
  },
  {
   "cell_type": "code",
   "execution_count": 83,
   "metadata": {},
   "outputs": [],
   "source": [
    "# calculating delta_time\n",
    "delta_confirm_place = delta_time(test_data, 'Confirmation - Time', 'Placement - Time')\n",
    "delta_pick_arr_confirm = delta_time(test_data, 'Arrival at Pickup - Time', 'Confirmation - Time')\n",
    "delta_pickup_confirm = delta_time(test_data, 'Pickup - Time', 'Arrival at Pickup - Time')\n",
    "delta_arrival_pickup = delta_time(test_data, 'Arrival at Destination - Time', 'Pickup - Time')\n",
    "delta_placement_arrival = delta_time(test_data, 'Arrival at Destination - Time', 'Placement - Time')\n"
   ]
  },
  {
   "cell_type": "code",
   "execution_count": 84,
   "metadata": {},
   "outputs": [],
   "source": [
    "test_with_rider_info = test_data.merge(riders_data, on='Rider Id')\n"
   ]
  },
  {
   "cell_type": "code",
   "execution_count": 85,
   "metadata": {},
   "outputs": [
    {
     "data": {
      "text/plain": [
       "True"
      ]
     },
     "execution_count": 85,
     "metadata": {},
     "output_type": "execute_result"
    }
   ],
   "source": [
    "list(test_with_rider_info['Placement - Day of Month'] == test_with_rider_info['Confirmation - Day of Month'])\n",
    "list(test_with_rider_info['Confirmation - Day of Month']) == list(test_with_rider_info['Arrival at Pickup - Day of Month'])\n",
    "list(test_with_rider_info['Arrival at Pickup - Day of Month']) == list(test_with_rider_info['Pickup - Day of Month'])\n"
   ]
  },
  {
   "cell_type": "code",
   "execution_count": 86,
   "metadata": {},
   "outputs": [
    {
     "data": {
      "text/plain": [
       "True"
      ]
     },
     "execution_count": 86,
     "metadata": {},
     "output_type": "execute_result"
    }
   ],
   "source": [
    "list(test_with_rider_info['Placement - Weekday (Mo = 1)'] == test_with_rider_info['Confirmation - Weekday (Mo = 1)'])\n",
    "list(test_with_rider_info['Confirmation - Weekday (Mo = 1)']) == list(test_with_rider_info['Arrival at Pickup - Weekday (Mo = 1)'])\n",
    "list(test_with_rider_info['Arrival at Pickup - Weekday (Mo = 1)']) == list(test_with_rider_info['Pickup - Weekday (Mo = 1)'])\n"
   ]
  },
  {
   "cell_type": "code",
   "execution_count": 88,
   "metadata": {},
   "outputs": [],
   "source": [
    "# input missing values\n",
    "test_with_rider_info['Temperature'].fillna(test_with_rider_info['Temperature'].mean(), inplace=True)\n"
   ]
  },
  {
   "cell_type": "code",
   "execution_count": 89,
   "metadata": {},
   "outputs": [],
   "source": [
    "# label encoding of personal / business column\n",
    "labelencoder_personal_business = LabelEncoder()\n",
    "test_with_rider_info['Personal or Business'] = labelencoder_personal_business.fit_transform(test_with_rider_info['Personal or Business'])\n"
   ]
  },
  {
   "cell_type": "code",
   "execution_count": 91,
   "metadata": {},
   "outputs": [],
   "source": [
    "# one hot encoding of the test_data['Platform Type'] column\n",
    "test_with_rider_info['Platform Type'] = test_with_rider_info['Platform Type'].astype('category')\n",
    "test_with_rider_info = pd.concat([test_with_rider_info.drop(columns=['Platform Type']), pd.get_dummies(test_with_rider_info['Platform Type'])], axis=1)\n"
   ]
  },
  {
   "cell_type": "code",
   "execution_count": 92,
   "metadata": {},
   "outputs": [],
   "source": [
    "# drop redundant columns\n",
    "test_with_rider_info.drop(columns=['Confirmation - Day of Month', 'Confirmation - Weekday (Mo = 1)', \n",
    "                                   'Arrival at Pickup - Day of Month','Arrival at Pickup - Weekday (Mo = 1)', \n",
    "                                   'Pickup - Day of Month', 'Pickup - Weekday (Mo = 1)', \n",
    "                                   'Vehicle Type'], inplace=True) \n"
   ]
  },
  {
   "cell_type": "code",
   "execution_count": 94,
   "metadata": {},
   "outputs": [],
   "source": [
    "test_with_rider_info.rename(columns={1: \"Platform Type 1\", 2: \"Platform Type 2\", 3: \"Platform Type 3\", 4: \"Platform Type 4\"}, inplace=True)\n"
   ]
  },
  {
   "cell_type": "code",
   "execution_count": null,
   "metadata": {},
   "outputs": [],
   "source": [
    "test_with_rider_info.rename(columns={'Placement - Day of Month': 'Day of Month', \n",
    "                                     'Placement - Weekday (Mo = 1)': 'Weekday (Mo = 1)'})\n"
   ]
  },
  {
   "cell_type": "code",
   "execution_count": 102,
   "metadata": {},
   "outputs": [],
   "source": [
    "test_with_rider_info['Time from Pickup to Arrival'] = delta_arrival_pickup\n"
   ]
  }
 ],
 "metadata": {
  "kernelspec": {
   "display_name": "Python 3",
   "language": "python",
   "name": "python3"
  },
  "language_info": {
   "codemirror_mode": {
    "name": "ipython",
    "version": 3
   },
   "file_extension": ".py",
   "mimetype": "text/x-python",
   "name": "python",
   "nbconvert_exporter": "python",
   "pygments_lexer": "ipython3",
   "version": "3.7.1"
  }
 },
 "nbformat": 4,
 "nbformat_minor": 2
}
