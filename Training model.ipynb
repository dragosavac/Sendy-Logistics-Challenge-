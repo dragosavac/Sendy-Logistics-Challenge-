{
 "cells": [
  {
   "cell_type": "code",
   "execution_count": 83,
   "metadata": {},
   "outputs": [],
   "source": [
    "import pandas as pd\n",
    "import datetime\n",
    "from matplotlib import pyplot\n",
    "from sklearn.preprocessing import LabelEncoder\n"
   ]
  },
  {
   "cell_type": "code",
   "execution_count": 84,
   "metadata": {},
   "outputs": [],
   "source": [
    "train_data = pd.read_csv('/Users/rade_dragosavac/PycharmProjects/SendyLogisticsChallenge /Data/Train.csv')\n",
    "riders_data = pd.read_csv('/Users/rade_dragosavac/PycharmProjects/SendyLogisticsChallenge /Data/Riders.csv')\n",
    "test_data = pd.read_csv('/Users/rade_dragosavac/PycharmProjects/SendyLogisticsChallenge /Data/Test.csv')\n"
   ]
  },
  {
   "cell_type": "code",
   "execution_count": 85,
   "metadata": {},
   "outputs": [],
   "source": [
    "def time_from_midnight_in_seconds(data, column):\n",
    "    data[column] = pd.to_datetime(data[column])\n",
    "    return (data[column] - pd.to_datetime(pd.to_datetime('today').date())).astype('timedelta64[s]')\n",
    "\n",
    "\n",
    "def delta_time(dataset, higher_time, lower_time):\n",
    "    return dataset[higher_time] - dataset[lower_time]\n"
   ]
  },
  {
   "cell_type": "code",
   "execution_count": 86,
   "metadata": {},
   "outputs": [],
   "source": [
    "# converting time in seconds from midnight\n",
    "train_data['Placement - Time'] = time_from_midnight_in_seconds(train_data, 'Placement - Time')\n",
    "train_data['Confirmation - Time'] = time_from_midnight_in_seconds(train_data, 'Confirmation - Time')\n",
    "train_data['Pickup - Time'] = time_from_midnight_in_seconds(train_data, 'Pickup - Time')\n",
    "train_data['Arrival at Pickup - Time'] = time_from_midnight_in_seconds(train_data, 'Arrival at Pickup - Time')\n",
    "train_data['Arrival at Destination - Time'] = time_from_midnight_in_seconds(train_data, 'Arrival at Destination - Time')\n",
    "\n",
    "# converting time in seconds from midnight for test data\n",
    "test_data['Placement - Time'] = time_from_midnight_in_seconds(test_data, 'Placement - Time')\n",
    "test_data['Confirmation - Time'] = time_from_midnight_in_seconds(test_data, 'Confirmation - Time')\n",
    "test_data['Pickup - Time'] = time_from_midnight_in_seconds(test_data, 'Pickup - Time')\n",
    "test_data['Arrival at Pickup - Time'] = time_from_midnight_in_seconds(test_data, 'Arrival at Pickup - Time')\n"
   ]
  },
  {
   "cell_type": "code",
   "execution_count": 87,
   "metadata": {},
   "outputs": [],
   "source": [
    "# calculating delta_time for train data\n",
    "delta_confirm_place_train = delta_time(train_data, 'Confirmation - Time', 'Placement - Time')\n",
    "delta_pick_arr_confirm_train = delta_time(train_data, 'Arrival at Pickup - Time', 'Confirmation - Time')\n",
    "delta_pickup_confirm_train = delta_time(train_data, 'Pickup - Time', 'Arrival at Pickup - Time')\n",
    "delta_arrival_pickup_train = delta_time(train_data, 'Arrival at Destination - Time', 'Pickup - Time')\n",
    "delta_placement_arrival_train = delta_time(train_data, 'Arrival at Destination - Time', 'Placement - Time')\n",
    "\n",
    "delta_confirm_place_test = delta_time(test_data, 'Confirmation - Time', 'Placement - Time')\n",
    "delta_pick_arr_confirm_test = delta_time(test_data, 'Arrival at Pickup - Time', 'Confirmation - Time')\n",
    "delta_pickup_confirm_test = delta_time(test_data, 'Pickup - Time', 'Arrival at Pickup - Time')\n"
   ]
  },
  {
   "cell_type": "code",
   "execution_count": 88,
   "metadata": {},
   "outputs": [],
   "source": [
    "train_with_rider_info = train_data.merge(riders_data, on='Rider Id')\n",
    "test_with_rider_info = test_data.merge(riders_data, on='Rider Id')\n"
   ]
  },
  {
   "cell_type": "code",
   "execution_count": 89,
   "metadata": {},
   "outputs": [],
   "source": [
    "train_with_rider_info = train_with_rider_info[train_with_rider_info['Placement - Weekday (Mo = 1)'] == train_with_rider_info['Confirmation - Weekday (Mo = 1)']]\n",
    "train_with_rider_info = train_with_rider_info[train_with_rider_info['Placement - Day of Month'] == train_with_rider_info['Confirmation - Day of Month']]\n"
   ]
  },
  {
   "cell_type": "code",
   "execution_count": 90,
   "metadata": {},
   "outputs": [],
   "source": [
    "train_with_rider_info['Temperature'].fillna(train_with_rider_info['Temperature'].mean(), inplace=True)\n",
    "test_with_rider_info['Temperature'].fillna(test_with_rider_info['Temperature'].mean(), inplace=True)\n"
   ]
  },
  {
   "cell_type": "code",
   "execution_count": 91,
   "metadata": {},
   "outputs": [],
   "source": [
    "# label encoding of personal/business column for train data\n",
    "labelencoder_personal_business = LabelEncoder()\n",
    "train_with_rider_info['Personal or Business'] = labelencoder_personal_business.fit_transform(train_with_rider_info['Personal or Business'])\n",
    "\n",
    "# label encoding of personal/business column for test data\n",
    "labelencoder_personal_business = LabelEncoder()\n",
    "test_with_rider_info['Personal or Business'] = labelencoder_personal_business.fit_transform(test_with_rider_info['Personal or Business'])\n"
   ]
  },
  {
   "cell_type": "code",
   "execution_count": 92,
   "metadata": {},
   "outputs": [],
   "source": [
    "# one hot encoding of the train_data['Platform Type'] column\n",
    "train_with_rider_info['Platform Type'] = train_with_rider_info['Platform Type'].astype('category')\n",
    "train_with_rider_info = pd.concat([train_with_rider_info.drop(columns=['Platform Type']), pd.get_dummies(train_with_rider_info['Platform Type'])], axis=1)\n",
    "\n"
   ]
  },
  {
   "cell_type": "code",
   "execution_count": 93,
   "metadata": {},
   "outputs": [],
   "source": [
    "# one hot encoding of the test_data['Platform Type'] column\n",
    "test_with_rider_info['Platform Type'] = test_with_rider_info['Platform Type'].astype('category')\n",
    "test_with_rider_info = pd.concat([test_with_rider_info.drop(columns=['Platform Type']), pd.get_dummies(test_with_rider_info['Platform Type'])], axis=1)\n"
   ]
  },
  {
   "cell_type": "code",
   "execution_count": null,
   "metadata": {},
   "outputs": [],
   "source": []
  },
  {
   "cell_type": "code",
   "execution_count": 95,
   "metadata": {},
   "outputs": [],
   "source": [
    "# drop redundant columns train data\n",
    "train_with_rider_info.drop(columns=['Confirmation - Day of Month', 'Confirmation - Weekday (Mo = 1)',\n",
    "                                    'Arrival at Pickup - Day of Month','Arrival at Pickup - Weekday (Mo = 1)',\n",
    "                                    'Pickup - Day of Month', 'Pickup - Weekday (Mo = 1)',\n",
    "                                    'Arrival at Destination - Day of Month',\n",
    "                                    'Arrival at Destination - Weekday (Mo = 1)',\n",
    "                                    'Vehicle Type', 'Order No',\n",
    "                                    'User Id', 'Rider Id',\n",
    "                                    'Precipitation in millimeters'], inplace=True)\n"
   ]
  },
  {
   "cell_type": "code",
   "execution_count": 96,
   "metadata": {},
   "outputs": [],
   "source": [
    "# drop redundant columns test data\n",
    "test_with_rider_info.drop(columns=['Confirmation - Day of Month', 'Confirmation - Weekday (Mo = 1)',\n",
    "                                   'Arrival at Pickup - Day of Month', 'Arrival at Pickup - Weekday (Mo = 1)',\n",
    "                                   'Pickup - Day of Month', 'Pickup - Weekday (Mo = 1)',\n",
    "                                   'Vehicle Type', 'Order No',\n",
    "                                   'User Id', 'Rider Id',\n",
    "                                   'Precipitation in millimeters'], inplace=True)\n"
   ]
  },
  {
   "cell_type": "code",
   "execution_count": 98,
   "metadata": {},
   "outputs": [],
   "source": [
    "train_with_rider_info.rename(columns={1: \"Platform Type 1\", 2: \"Platform Type 2\",\n",
    "                                      3: \"Platform Type 3\", 4: \"Platform Type 4\"}, inplace=True)\n",
    "\n",
    "test_with_rider_info.rename(columns={1: \"Platform Type 1\", 2: \"Platform Type 2\",\n",
    "                                     3: \"Platform Type 3\", 4: \"Platform Type 4\"}, inplace=True)\n"
   ]
  },
  {
   "cell_type": "code",
   "execution_count": null,
   "metadata": {},
   "outputs": [],
   "source": [
    "train_with_rider_info.rename(columns={'Placement - Day of Month': 'Day of Month',\n",
    "                                      'Placement - Weekday (Mo = 1)': 'Weekday (Mo = 1)'})\n",
    "\n",
    "test_with_rider_info.rename(columns={'Placement - Day of Month': 'Day of Month',\n",
    "                                     'Placement - Weekday (Mo = 1)': 'Weekday (Mo = 1)'})\n"
   ]
  },
  {
   "cell_type": "code",
   "execution_count": 110,
   "metadata": {},
   "outputs": [],
   "source": [
    "X_train = X = train_with_rider_info.drop(columns='Time from Pickup to Arrival')\n",
    "Y_train = train_with_rider_info['Time from Pickup to Arrival']\n"
   ]
  },
  {
   "cell_type": "code",
   "execution_count": 111,
   "metadata": {},
   "outputs": [
    {
     "ename": "TypeError",
     "evalue": "'method' object is not subscriptable",
     "traceback": [
      "\u001b[0;31m---------------------------------------------------------------------------\u001b[0m",
      "\u001b[0;31mTypeError\u001b[0m                                 Traceback (most recent call last)",
      "\u001b[0;32m<ipython-input-111-a1ba7b838c66>\u001b[0m in \u001b[0;36m<module>\u001b[0;34m\u001b[0m\n\u001b[0;32m----> 1\u001b[0;31m \u001b[0mtest_with_rider_info\u001b[0m\u001b[0;34m.\u001b[0m\u001b[0minsert\u001b[0m\u001b[0;34m[\u001b[0m\u001b[0;34m'Time from Pickup to Arrival'\u001b[0m\u001b[0;34m]\u001b[0m\u001b[0;34m\u001b[0m\u001b[0;34m\u001b[0m\u001b[0m\n\u001b[0m",
      "\u001b[0;31mTypeError\u001b[0m: 'method' object is not subscriptable"
     ],
     "output_type": "error"
    }
   ],
   "source": []
  }
 ],
 "metadata": {
  "kernelspec": {
   "display_name": "Python 3",
   "language": "python",
   "name": "python3"
  },
  "language_info": {
   "codemirror_mode": {
    "name": "ipython",
    "version": 3
   },
   "file_extension": ".py",
   "mimetype": "text/x-python",
   "name": "python",
   "nbconvert_exporter": "python",
   "pygments_lexer": "ipython3",
   "version": "3.7.1"
  }
 },
 "nbformat": 4,
 "nbformat_minor": 2
}
