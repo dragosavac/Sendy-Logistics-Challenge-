{
 "cells": [
  {
   "cell_type": "code",
   "execution_count": 1,
   "metadata": {},
   "outputs": [
    {
     "name": "stderr",
     "output_type": "stream",
     "text": [
      "Using TensorFlow backend.\n",
      "/anaconda3/lib/python3.7/site-packages/dask/config.py:161: YAMLLoadWarning: calling yaml.load() without Loader=... is deprecated, as the default Loader is unsafe. Please read https://msg.pyyaml.org/load for full details.\n",
      "  data = yaml.load(f.read()) or {}\n"
     ]
    }
   ],
   "source": [
    "import pandas as pd\n",
    "import numpy as np\n",
    "import datetime\n",
    "from matplotlib import pyplot\n",
    "from sklearn.preprocessing import LabelEncoder\n",
    "from sklearn.ensemble import RandomForestRegressor\n",
    "from sklearn.model_selection import train_test_split\n",
    "from sklearn.model_selection import GridSearchCV\n",
    "from sklearn.metrics import mean_squared_error\n",
    "\n",
    "import keras\n",
    "from keras.models import Sequential\n",
    "from keras.layers import Dense\n",
    "from sklearn.preprocessing import StandardScaler"
   ]
  },
  {
   "cell_type": "code",
   "execution_count": 2,
   "metadata": {},
   "outputs": [],
   "source": [
    "train_data = pd.read_csv('Data/Train.csv')\n",
    "riders_data = pd.read_csv('Data/Riders.csv')\n",
    "test_data = pd.read_csv('Data/Test.csv')\n"
   ]
  },
  {
   "cell_type": "code",
   "execution_count": 3,
   "metadata": {},
   "outputs": [],
   "source": [
    "def time_from_midnight_in_seconds(data, column):\n",
    "    data[column] = pd.to_datetime(data[column])\n",
    "    return (data[column] - pd.to_datetime(pd.to_datetime('today').date())).astype('timedelta64[s]')\n",
    "\n",
    "\n",
    "def delta_time(dataset, higher_time, lower_time):\n",
    "    return dataset[higher_time] - dataset[lower_time]\n",
    "\n",
    "def time_to_day_part(time):\n",
    "    hours = time/3600\n",
    "    if hours < 6:\n",
    "        return ('Night')\n",
    "    if hours < 12:\n",
    "        return ('Morning')\n",
    "    if hours < 18:\n",
    "        return ('Afternoon')\n",
    "    else:\n",
    "        return ('Evening')\n",
    "    \n",
    "def calculate_bearing(lat1, lng1, lat2, lng2):\n",
    "        lat1 = np.deg2rad(lat1)\n",
    "        lat2 = np.deg2rad(lat2)\n",
    "        diffLong = np.deg2rad(lng2 - lng1)\n",
    "        x = np.sin(diffLong) * np.cos(lat2)\n",
    "        y = np.cos(lat1) * np.sin(lat2) - (np.sin(lat1)\n",
    "                                     * np.cos(lat2) * np.cos(diffLong))\n",
    "        initial_bearing = np.arctan2(x, y)\n",
    "        # Now we have the initial bearing but math.atan2 return values\n",
    "        # from -180° to + 180° which is not what we want for a compass bearing\n",
    "        # The solution is to normalize the initial bearing as shown below\n",
    "        initial_bearing = np.rad2deg(initial_bearing)\n",
    "        compass_bearing = (initial_bearing+360) % 360\n",
    "        return compass_bearing    \n"
   ]
  },
  {
   "cell_type": "code",
   "execution_count": 4,
   "metadata": {},
   "outputs": [],
   "source": [
    "# converting time in seconds from midnight\n",
    "train_data['Placement - Time'] = time_from_midnight_in_seconds(train_data, 'Placement - Time')\n",
    "train_data['Confirmation - Time'] = time_from_midnight_in_seconds(train_data, 'Confirmation - Time')\n",
    "train_data['Pickup - Time'] = time_from_midnight_in_seconds(train_data, 'Pickup - Time')\n",
    "train_data['Arrival at Pickup - Time'] = time_from_midnight_in_seconds(train_data, 'Arrival at Pickup - Time')\n",
    "train_data['Arrival at Destination - Time'] = time_from_midnight_in_seconds(train_data, 'Arrival at Destination - Time')\n",
    "\n",
    "# converting time in seconds from midnight for test data\n",
    "test_data['Placement - Time'] = time_from_midnight_in_seconds(test_data, 'Placement - Time')\n",
    "test_data['Confirmation - Time'] = time_from_midnight_in_seconds(test_data, 'Confirmation - Time')\n",
    "test_data['Pickup - Time'] = time_from_midnight_in_seconds(test_data, 'Pickup - Time')\n",
    "test_data['Arrival at Pickup - Time'] = time_from_midnight_in_seconds(test_data, 'Arrival at Pickup - Time')\n"
   ]
  },
  {
   "cell_type": "code",
   "execution_count": 5,
   "metadata": {},
   "outputs": [],
   "source": [
    "# calculating delta_time for train data\n",
    "delta_confirm_place_train = delta_time(train_data, 'Confirmation - Time', 'Placement - Time')\n",
    "delta_pick_arr_confirm_train = delta_time(train_data, 'Arrival at Pickup - Time', 'Confirmation - Time')\n",
    "delta_pickup_confirm_train = delta_time(train_data, 'Pickup - Time', 'Arrival at Pickup - Time')\n",
    "delta_arrival_pickup_train = delta_time(train_data, 'Arrival at Destination - Time', 'Pickup - Time')\n",
    "delta_placement_arrival_train = delta_time(train_data, 'Arrival at Destination - Time', 'Placement - Time')\n",
    "\n",
    "delta_confirm_place_test = delta_time(test_data, 'Confirmation - Time', 'Placement - Time')\n",
    "delta_pick_arr_confirm_test = delta_time(test_data, 'Arrival at Pickup - Time', 'Confirmation - Time')\n",
    "delta_pickup_confirm_test = delta_time(test_data, 'Pickup - Time', 'Arrival at Pickup - Time')\n"
   ]
  },
  {
   "cell_type": "code",
   "execution_count": 6,
   "metadata": {},
   "outputs": [],
   "source": [
    "train_with_rider_info = train_data.merge(riders_data, on='Rider Id')\n",
    "test_with_rider_info = test_data.merge(riders_data, on='Rider Id')\n"
   ]
  },
  {
   "cell_type": "code",
   "execution_count": 7,
   "metadata": {},
   "outputs": [],
   "source": [
    "train_with_rider_info = train_with_rider_info[train_with_rider_info['Placement - Weekday (Mo = 1)'] == train_with_rider_info['Confirmation - Weekday (Mo = 1)']]\n",
    "train_with_rider_info = train_with_rider_info[train_with_rider_info['Placement - Day of Month'] == train_with_rider_info['Confirmation - Day of Month']]\n"
   ]
  },
  {
   "cell_type": "code",
   "execution_count": 8,
   "metadata": {},
   "outputs": [],
   "source": [
    "train_with_rider_info['Temperature'].fillna(train_with_rider_info['Temperature'].mean(), inplace=True)\n",
    "test_with_rider_info['Temperature'].fillna(test_with_rider_info['Temperature'].mean(), inplace=True)\n"
   ]
  },
  {
   "cell_type": "code",
   "execution_count": 9,
   "metadata": {},
   "outputs": [],
   "source": [
    "# label encoding of personal/business column for train data\n",
    "labelencoder_personal_business = LabelEncoder()\n",
    "train_with_rider_info['Personal or Business'] = labelencoder_personal_business.fit_transform(train_with_rider_info['Personal or Business'])\n",
    "\n",
    "# label encoding of personal/business column for test data\n",
    "labelencoder_personal_business = LabelEncoder()\n",
    "test_with_rider_info['Personal or Business'] = labelencoder_personal_business.fit_transform(test_with_rider_info['Personal or Business'])\n"
   ]
  },
  {
   "cell_type": "code",
   "execution_count": 10,
   "metadata": {},
   "outputs": [],
   "source": [
    "# one hot encoding of the train_data['Platform Type'] column\n",
    "train_with_rider_info['Platform Type'] = train_with_rider_info['Platform Type'].astype('category')\n",
    "train_with_rider_info = pd.concat([train_with_rider_info.drop(columns=['Platform Type']), pd.get_dummies(train_with_rider_info['Platform Type'])], axis=1)\n",
    "\n"
   ]
  },
  {
   "cell_type": "code",
   "execution_count": 11,
   "metadata": {},
   "outputs": [],
   "source": [
    "# one hot encoding of the test_data['Platform Type'] column\n",
    "test_with_rider_info['Platform Type'] = test_with_rider_info['Platform Type'].astype('category')\n",
    "test_with_rider_info = pd.concat([test_with_rider_info.drop(columns=['Platform Type']), pd.get_dummies(test_with_rider_info['Platform Type'])], axis=1)\n"
   ]
  },
  {
   "cell_type": "code",
   "execution_count": 12,
   "metadata": {},
   "outputs": [],
   "source": [
    "bearing_test = calculate_bearing(test_with_rider_info['Pickup Lat'], test_with_rider_info['Pickup Long'],\n",
    "                            test_with_rider_info['Destination Lat'], test_with_rider_info['Destination Long'])\n",
    "\n",
    "bearing_train = calculate_bearing(train_with_rider_info['Pickup Lat'], train_with_rider_info['Pickup Long'],\n",
    "                            train_with_rider_info['Destination Lat'], train_with_rider_info['Destination Long'])\n"
   ]
  },
  {
   "cell_type": "code",
   "execution_count": 13,
   "metadata": {},
   "outputs": [],
   "source": [
    "test_with_rider_info['Bearing'] = bearing_test\n",
    "train_with_rider_info['Bearing'] = bearing_train\n"
   ]
  },
  {
   "cell_type": "code",
   "execution_count": 14,
   "metadata": {},
   "outputs": [],
   "source": [
    "# drop redundant columns train data\n",
    "train_with_rider_info.drop(columns=['Confirmation - Day of Month', 'Confirmation - Weekday (Mo = 1)',\n",
    "                                    'Arrival at Pickup - Day of Month','Arrival at Pickup - Weekday (Mo = 1)',\n",
    "                                    'Pickup - Day of Month', 'Pickup - Weekday (Mo = 1)',\n",
    "                                    'Arrival at Destination - Day of Month',\n",
    "                                    'Arrival at Destination - Weekday (Mo = 1)',\n",
    "                                    'Arrival at Destination - Time',\n",
    "                                    'Pickup Lat', 'Pickup Long',\n",
    "                                    'Destination Lat', 'Destination Long',\n",
    "                                    'Vehicle Type', 'Order No',\n",
    "                                    'User Id', 'Rider Id',\n",
    "                                    'Precipitation in millimeters'], inplace=True)\n"
   ]
  },
  {
   "cell_type": "code",
   "execution_count": 15,
   "metadata": {},
   "outputs": [],
   "source": [
    "# drop redundant columns test data\n",
    "test_with_rider_info.drop(columns=['Confirmation - Day of Month', 'Confirmation - Weekday (Mo = 1)',\n",
    "                                   'Arrival at Pickup - Day of Month', 'Arrival at Pickup - Weekday (Mo = 1)',\n",
    "                                   'Pickup - Day of Month', 'Pickup - Weekday (Mo = 1)',\n",
    "                                   'Vehicle Type', 'User Id', 'Rider Id', 'Precipitation in millimeters',\n",
    "                                   'Pickup Lat', 'Pickup Long',\n",
    "                                   'Destination Lat', 'Destination Long'], inplace=True)\n"
   ]
  },
  {
   "cell_type": "code",
   "execution_count": 16,
   "metadata": {},
   "outputs": [],
   "source": [
    "train_with_rider_info.rename(columns={1: \"Platform Type 1\", 2: \"Platform Type 2\",\n",
    "                                      3: \"Platform Type 3\", 4: \"Platform Type 4\"}, inplace=True)\n",
    "\n",
    "test_with_rider_info.rename(columns={1: \"Platform Type 1\", 2: \"Platform Type 2\",\n",
    "                                     3: \"Platform Type 3\", 4: \"Platform Type 4\"}, inplace=True)\n"
   ]
  },
  {
   "cell_type": "code",
   "execution_count": 17,
   "metadata": {},
   "outputs": [],
   "source": [
    "train_with_rider_info.rename(columns={'Placement - Day of Month': 'Day of Month',\n",
    "                                      'Placement - Weekday (Mo = 1)': 'Weekday (Mo = 1)'}, inplace=True)\n",
    "\n",
    "test_with_rider_info.rename(columns={'Placement - Day of Month': 'Day of Month',\n",
    "                                     'Placement - Weekday (Mo = 1)': 'Weekday (Mo = 1)'}, inplace=True)\n"
   ]
  },
  {
   "cell_type": "code",
   "execution_count": 18,
   "metadata": {},
   "outputs": [],
   "source": [
    "# one hot encoding of the test_data['Weekday (Mo = 1)] column\n",
    "test_with_rider_info['Weekday (Mo = 1)'] = test_with_rider_info['Weekday (Mo = 1)'].astype('category')\n",
    "test_with_rider_info = pd.concat([test_with_rider_info.drop(columns=['Weekday (Mo = 1)']), pd.get_dummies(test_with_rider_info['Weekday (Mo = 1)'])], axis=1)\n"
   ]
  },
  {
   "cell_type": "code",
   "execution_count": 19,
   "metadata": {},
   "outputs": [],
   "source": [
    "# one hot encoding of the train_data['Weekday (Mo = 1)] column\n",
    "train_with_rider_info['Weekday (Mo = 1)'] = train_with_rider_info['Weekday (Mo = 1)'].astype('category')\n",
    "train_with_rider_info = pd.concat([train_with_rider_info.drop(columns=['Weekday (Mo = 1)']), pd.get_dummies(train_with_rider_info['Weekday (Mo = 1)'])], axis=1)\n"
   ]
  },
  {
   "cell_type": "code",
   "execution_count": 20,
   "metadata": {},
   "outputs": [],
   "source": [
    "\n",
    "train_with_rider_info.rename(columns={1: 'Monday', 2: 'Tuesday', 3: 'Wednesday', \n",
    "                                      4: 'Thursday', 5: 'Friday', 6: 'Saturday',\n",
    "                                      7: 'Sunday'\n",
    "                                      }, inplace=True)\n",
    "\n",
    "test_with_rider_info.rename(columns={1: 'Monday', 2: 'Tuesday', 3: 'Wednesday', \n",
    "                                      4: 'Thursday', 5: 'Friday', 6: 'Saturday',\n",
    "                                      7: 'Sunday'}, inplace=True)\n"
   ]
  },
  {
   "cell_type": "code",
   "execution_count": 21,
   "metadata": {},
   "outputs": [],
   "source": [
    "# labeling part of the day in train data \n",
    "# train_with_rider_info['Placement - Time'] = train_with_rider_info['Placement - Time'].apply(time_to_day_part)\n",
    "# train_with_rider_info['Confirmation - Time'] = train_with_rider_info['Confirmation - Time'].apply(time_to_day_part)\n",
    "# train_with_rider_info['Arrival at Pickup - Time'] = train_with_rider_info['Arrival at Pickup - Time'].apply(time_to_day_part)\n",
    "# train_with_rider_info['Pickup - Time'] = train_with_rider_info['Pickup - Time'].apply(time_to_day_part)\n"
   ]
  },
  {
   "cell_type": "code",
   "execution_count": 22,
   "metadata": {},
   "outputs": [],
   "source": [
    "# labeling part of the day in test data\n",
    "# test_with_rider_info['Placement - Time'] = test_with_rider_info['Placement - Time'].apply(time_to_day_part)\n",
    "# test_with_rider_info['Confirmation - Time'] = test_with_rider_info['Confirmation - Time'].apply(time_to_day_part)\n",
    "# test_with_rider_info['Arrival at Pickup - Time'] = test_with_rider_info['Arrival at Pickup - Time'].apply(time_to_day_part)\n",
    "# test_with_rider_info['Pickup - Time'] = test_with_rider_info['Pickup - Time'].apply(time_to_day_part)\n"
   ]
  },
  {
   "cell_type": "code",
   "execution_count": 23,
   "metadata": {},
   "outputs": [],
   "source": [
    "# label encoding, one hot encoding, and renaming of times\n",
    "# labelencoder = LabelEncoder()\n",
    "# train_with_rider_info['Placement - Time'] = labelencoder.fit_transform(train_with_rider_info['Placement - Time'])\n",
    "# train_with_rider_info['Placement - Time'] = train_with_rider_info['Placement - Time'].astype('category')\n",
    "# train_with_rider_info = pd.concat([train_with_rider_info.drop(columns=['Placement - Time']), pd.get_dummies(train_with_rider_info['Placement - Time'])], axis=1)\n",
    "\n"
   ]
  },
  {
   "cell_type": "markdown",
   "metadata": {},
   "source": [
    "## Training Neural Networks"
   ]
  },
  {
   "cell_type": "code",
   "execution_count": 49,
   "metadata": {},
   "outputs": [],
   "source": [
    "X = train_with_rider_info.drop(columns='Time from Pickup to Arrival')\n",
    "Y = train_with_rider_info['Time from Pickup to Arrival']\n",
    "variables = ['Distance (KM)',\n",
    "'Bearing',\n",
    "'No_Of_Orders',\n",
    "'Age',\n",
    "'No_of_Ratings',\n",
    "'Arrival at Pickup - Time',\n",
    "'Pickup - Time',\n",
    "'Confirmation - Time',\n",
    "'Placement - Time',\n",
    "'Average_Rating',\n",
    "'Temperature',\n",
    "'Day of Month']\n",
    "variables1 = ['Distance (KM)',\n",
    "'No_Of_Orders',\n",
    "'Age',\n",
    "'No_of_Ratings',\n",
    "'Arrival at Pickup - Time',\n",
    "'Pickup - Time',\n",
    "'Confirmation - Time',\n",
    "'Placement - Time',\n",
    "'Average_Rating',\n",
    "'Temperature',\n",
    "'Day of Month']"
   ]
  },
  {
   "cell_type": "code",
   "execution_count": 38,
   "metadata": {},
   "outputs": [],
   "source": [
    "def split_train_evaluate(Xdata, Ydata, params,scale=True):\n",
    "    X_train, X_test, y_train, y_test = train_test_split(Xdata, Ydata, test_size=0.2, random_state=0)\n",
    "    if scale:\n",
    "        sc = StandardScaler()\n",
    "        X_train = sc.fit_transform(X_train)\n",
    "        X_test = sc.transform(X_test)\n",
    "    # Initialising the ANN\n",
    "    model = Sequential()\n",
    "    # Adding the input layer and the first hidden layer\n",
    "    model.add(Dense(units = params['units1'], kernel_initializer = 'normal', activation = 'relu', input_dim = params['input_dim']))\n",
    "    # Adding the second hidden layer\n",
    "    model.add(Dense(units = params['units2'], kernel_initializer = 'normal', activation = 'relu'))\n",
    "    # Adding the output layer\n",
    "    model.add(Dense(units = 1, kernel_initializer='normal', activation = 'linear'))\n",
    "    # Compiling the ANN\n",
    "    model.compile(loss='mean_squared_error', optimizer=params['optimizer'])\n",
    "    # Fitting the ANN to the Training set\n",
    "    model.fit(X_train, y_train, batch_size = params['batchsize'], epochs = params['Nepochs'], verbose=True)\n",
    "    y_pred = model.predict(X_test)\n",
    "    return mean_squared_error(y_test/60, y_pred/60)\n"
   ]
  },
  {
   "cell_type": "code",
   "execution_count": 40,
   "metadata": {
    "scrolled": false
   },
   "outputs": [
    {
     "name": "stderr",
     "output_type": "stream",
     "text": [
      "/anaconda3/lib/python3.7/site-packages/sklearn/preprocessing/data.py:625: DataConversionWarning: Data with input dtype uint8, int64, float64 were all converted to float64 by StandardScaler.\n",
      "  return self.partial_fit(X, y)\n",
      "/anaconda3/lib/python3.7/site-packages/sklearn/base.py:462: DataConversionWarning: Data with input dtype uint8, int64, float64 were all converted to float64 by StandardScaler.\n",
      "  return self.fit(X, **fit_params).transform(X)\n",
      "/anaconda3/lib/python3.7/site-packages/ipykernel_launcher.py:6: DataConversionWarning: Data with input dtype uint8, int64, float64 were all converted to float64 by StandardScaler.\n",
      "  \n"
     ]
    },
    {
     "name": "stdout",
     "output_type": "stream",
     "text": [
      "Epoch 1/10\n",
      "16959/16959 [==============================] - 4s - loss: 1598891.4966     \n",
      "Epoch 2/10\n",
      "16959/16959 [==============================] - 4s - loss: 692990.7770     \n",
      "Epoch 3/10\n",
      "16959/16959 [==============================] - 4s - loss: 662262.8112     \n",
      "Epoch 4/10\n",
      "16959/16959 [==============================] - 4s - loss: 651930.1531     \n",
      "Epoch 5/10\n",
      "16959/16959 [==============================] - 4s - loss: 646812.5300     \n",
      "Epoch 6/10\n",
      "16959/16959 [==============================] - 4s - loss: 643327.2624      E\n",
      "Epoch 7/10\n",
      "16959/16959 [==============================] - 4s - loss: 641396.6978     \n",
      "Epoch 8/10\n",
      "16959/16959 [==============================] - 4s - loss: 639742.0545     \n",
      "Epoch 9/10\n",
      "16959/16959 [==============================] - 4s - loss: 637977.8683     \n",
      "Epoch 10/10\n",
      "16959/16959 [==============================] - 4s - loss: 637226.1913     \n"
     ]
    },
    {
     "data": {
      "text/plain": [
       "181.50540123096545"
      ]
     },
     "execution_count": 40,
     "metadata": {},
     "output_type": "execute_result"
    }
   ],
   "source": [
    "parameters_dict = {'units1':12,'input_dim':24, 'units2':6, 'optimizer':'adam', 'batchsize':5, 'Nepochs':10}\n",
    "split_train_evaluate(Xdata=X, Ydata=Y, params=parameters_dict,scale=True)"
   ]
  },
  {
   "cell_type": "code",
   "execution_count": 43,
   "metadata": {},
   "outputs": [
    {
     "name": "stderr",
     "output_type": "stream",
     "text": [
      "/anaconda3/lib/python3.7/site-packages/sklearn/preprocessing/data.py:625: DataConversionWarning: Data with input dtype uint8, int64, float64 were all converted to float64 by StandardScaler.\n",
      "  return self.partial_fit(X, y)\n",
      "/anaconda3/lib/python3.7/site-packages/sklearn/base.py:462: DataConversionWarning: Data with input dtype uint8, int64, float64 were all converted to float64 by StandardScaler.\n",
      "  return self.fit(X, **fit_params).transform(X)\n",
      "/anaconda3/lib/python3.7/site-packages/ipykernel_launcher.py:6: DataConversionWarning: Data with input dtype uint8, int64, float64 were all converted to float64 by StandardScaler.\n",
      "  \n"
     ]
    },
    {
     "name": "stdout",
     "output_type": "stream",
     "text": [
      "Epoch 1/10\n",
      "16959/16959 [==============================] - 6s - loss: 1172998.2096     - ETA: 4s - loss:  - ETA: 3s - ETA: 1s - loss:  - ETA: 1s - loss: 1218578 - ETA: 1s - l\n",
      "Epoch 2/10\n",
      "16959/16959 [==============================] - 6s - loss: 968321.3504     \n",
      "Epoch 3/10\n",
      "16959/16959 [==============================] - 5s - loss: 968994.1316     \n",
      "Epoch 4/10\n",
      "16959/16959 [==============================] - 5s - loss: 968805.5587      ETA: 0s - loss: 9\n",
      "Epoch 5/10\n",
      "16959/16959 [==============================] - 5s - loss: 969176.1723     \n",
      "Epoch 6/10\n",
      "16959/16959 [==============================] - 4s - loss: 969247.2243     \n",
      "Epoch 7/10\n",
      "16959/16959 [==============================] - 5s - loss: 969094.7394     \n",
      "Epoch 8/10\n",
      "16959/16959 [==============================] - 5s - loss: 969178.3243     \n",
      "Epoch 9/10\n",
      "16959/16959 [==============================] - 5s - loss: 968840.3195      ETA: 0s - loss: 968343. - ETA: 0s - loss: 967954.86\n",
      "Epoch 10/10\n",
      "16959/16959 [==============================] - 7s - loss: 968953.8852     \n"
     ]
    },
    {
     "data": {
      "text/plain": [
       "279.35327380305114"
      ]
     },
     "execution_count": 43,
     "metadata": {},
     "output_type": "execute_result"
    }
   ],
   "source": [
    "parameters_dict = {'units1':12,'input_dim':24, 'units2':6, 'optimizer':'sgd', 'batchsize':5, 'Nepochs':10}\n",
    "split_train_evaluate(Xdata=X, Ydata=Y, params=parameters_dict,scale=True)"
   ]
  },
  {
   "cell_type": "code",
   "execution_count": 46,
   "metadata": {},
   "outputs": [
    {
     "name": "stderr",
     "output_type": "stream",
     "text": [
      "/anaconda3/lib/python3.7/site-packages/sklearn/preprocessing/data.py:625: DataConversionWarning: Data with input dtype int64, float64 were all converted to float64 by StandardScaler.\n",
      "  return self.partial_fit(X, y)\n",
      "/anaconda3/lib/python3.7/site-packages/sklearn/base.py:462: DataConversionWarning: Data with input dtype int64, float64 were all converted to float64 by StandardScaler.\n",
      "  return self.fit(X, **fit_params).transform(X)\n",
      "/anaconda3/lib/python3.7/site-packages/ipykernel_launcher.py:6: DataConversionWarning: Data with input dtype int64, float64 were all converted to float64 by StandardScaler.\n",
      "  \n"
     ]
    },
    {
     "name": "stdout",
     "output_type": "stream",
     "text": [
      "Epoch 1/10\n",
      "16959/16959 [==============================] - 3s - loss: 11349488855.7047     \n",
      "Epoch 2/10\n",
      "16959/16959 [==============================] - 2s - loss: 968843.0392     \n",
      "Epoch 3/10\n",
      "16959/16959 [==============================] - 2s - loss: 968928.5699     \n",
      "Epoch 4/10\n",
      "16959/16959 [==============================] - 2s - loss: 968784.1212     \n",
      "Epoch 5/10\n",
      "16959/16959 [==============================] - 2s - loss: 968489.0004     \n",
      "Epoch 6/10\n",
      "16959/16959 [==============================] - 2s - loss: 968745.6429     \n",
      "Epoch 7/10\n",
      "16959/16959 [==============================] - 2s - loss: 969078.2194     \n",
      "Epoch 8/10\n",
      "16959/16959 [==============================] - 2s - loss: 967918.5691     \n",
      "Epoch 9/10\n",
      "16959/16959 [==============================] - 3s - loss: 968479.6993     \n",
      "Epoch 10/10\n",
      "16959/16959 [==============================] - 3s - loss: 969128.3804     \n"
     ]
    },
    {
     "data": {
      "text/plain": [
       "280.0198789861787"
      ]
     },
     "execution_count": 46,
     "metadata": {},
     "output_type": "execute_result"
    }
   ],
   "source": [
    "parameters_dict = {'units1':6,'input_dim':12, 'units2':6, 'optimizer':'sgd', 'batchsize':5, 'Nepochs':10}\n",
    "split_train_evaluate(Xdata=X[variables], Ydata=Y, params=parameters_dict,scale=True)"
   ]
  },
  {
   "cell_type": "code",
   "execution_count": 48,
   "metadata": {},
   "outputs": [
    {
     "name": "stderr",
     "output_type": "stream",
     "text": [
      "/anaconda3/lib/python3.7/site-packages/sklearn/preprocessing/data.py:625: DataConversionWarning: Data with input dtype int64, float64 were all converted to float64 by StandardScaler.\n",
      "  return self.partial_fit(X, y)\n",
      "/anaconda3/lib/python3.7/site-packages/sklearn/base.py:462: DataConversionWarning: Data with input dtype int64, float64 were all converted to float64 by StandardScaler.\n",
      "  return self.fit(X, **fit_params).transform(X)\n",
      "/anaconda3/lib/python3.7/site-packages/ipykernel_launcher.py:6: DataConversionWarning: Data with input dtype int64, float64 were all converted to float64 by StandardScaler.\n",
      "  \n"
     ]
    },
    {
     "name": "stdout",
     "output_type": "stream",
     "text": [
      "Epoch 1/10\n",
      "16959/16959 [==============================] - 3s - loss: 1802593.4034     \n",
      "Epoch 2/10\n",
      "16959/16959 [==============================] - 3s - loss: 755472.9539     \n",
      "Epoch 3/10\n",
      "16959/16959 [==============================] - 3s - loss: 675175.5869     \n",
      "Epoch 4/10\n",
      "16959/16959 [==============================] - 3s - loss: 648631.5997     \n",
      "Epoch 5/10\n",
      "16959/16959 [==============================] - 3s - loss: 637740.7841     \n",
      "Epoch 6/10\n",
      "16959/16959 [==============================] - 3s - loss: 633921.8419     \n",
      "Epoch 7/10\n",
      "16959/16959 [==============================] - 3s - loss: 632507.7296     \n",
      "Epoch 8/10\n",
      "16959/16959 [==============================] - 3s - loss: 631417.1061     \n",
      "Epoch 9/10\n",
      "16959/16959 [==============================] - 3s - loss: 630809.0493     \n",
      "Epoch 10/10\n",
      "16959/16959 [==============================] - 3s - loss: 630018.2441     \n"
     ]
    },
    {
     "data": {
      "text/plain": [
       "178.56543579995798"
      ]
     },
     "execution_count": 48,
     "metadata": {},
     "output_type": "execute_result"
    }
   ],
   "source": [
    "parameters_dict = {'units1':6,'input_dim':12, 'units2':6, 'optimizer':'adam', 'batchsize':5, 'Nepochs':10}\n",
    "split_train_evaluate(Xdata=X[variables], Ydata=Y, params=parameters_dict,scale=True)"
   ]
  },
  {
   "cell_type": "code",
   "execution_count": 51,
   "metadata": {},
   "outputs": [
    {
     "name": "stderr",
     "output_type": "stream",
     "text": [
      "/anaconda3/lib/python3.7/site-packages/sklearn/preprocessing/data.py:625: DataConversionWarning: Data with input dtype int64, float64 were all converted to float64 by StandardScaler.\n",
      "  return self.partial_fit(X, y)\n",
      "/anaconda3/lib/python3.7/site-packages/sklearn/base.py:462: DataConversionWarning: Data with input dtype int64, float64 were all converted to float64 by StandardScaler.\n",
      "  return self.fit(X, **fit_params).transform(X)\n",
      "/anaconda3/lib/python3.7/site-packages/ipykernel_launcher.py:6: DataConversionWarning: Data with input dtype int64, float64 were all converted to float64 by StandardScaler.\n",
      "  \n"
     ]
    },
    {
     "name": "stdout",
     "output_type": "stream",
     "text": [
      "Epoch 1/10\n",
      "16959/16959 [==============================] - 3s - loss: 1880104.9783     \n",
      "Epoch 2/10\n",
      "16959/16959 [==============================] - 3s - loss: 767840.6925     \n",
      "Epoch 3/10\n",
      "16959/16959 [==============================] - 3s - loss: 682223.6242     \n",
      "Epoch 4/10\n",
      "16959/16959 [==============================] - 3s - loss: 652853.0153     \n",
      "Epoch 5/10\n",
      "16959/16959 [==============================] - 3s - loss: 641470.1578     \n",
      "Epoch 6/10\n",
      "16959/16959 [==============================] - 3s - loss: 636680.8961     \n",
      "Epoch 7/10\n",
      "16959/16959 [==============================] - 3s - loss: 634031.7192     \n",
      "Epoch 8/10\n",
      "16959/16959 [==============================] - 3s - loss: 632365.3334     \n",
      "Epoch 9/10\n",
      "16959/16959 [==============================] - 3s - loss: 631435.1234     \n",
      "Epoch 10/10\n",
      "16959/16959 [==============================] - 3s - loss: 630667.8453     \n"
     ]
    },
    {
     "data": {
      "text/plain": [
       "178.93421060373802"
      ]
     },
     "execution_count": 51,
     "metadata": {},
     "output_type": "execute_result"
    }
   ],
   "source": [
    "parameters_dict = {'units1':6,'input_dim':11, 'units2':6, 'optimizer':'adam', 'batchsize':5, 'Nepochs':10}\n",
    "split_train_evaluate(Xdata=X[variables1], Ydata=Y, params=parameters_dict,scale=True)"
   ]
  },
  {
   "cell_type": "code",
   "execution_count": 129,
   "metadata": {},
   "outputs": [],
   "source": [
    "test_with_rider_info1 = test_with_rider_info.loc[:,variables]"
   ]
  },
  {
   "cell_type": "code",
   "execution_count": 130,
   "metadata": {},
   "outputs": [
    {
     "name": "stderr",
     "output_type": "stream",
     "text": [
      "/anaconda3/lib/python3.7/site-packages/ipykernel_launcher.py:1: DataConversionWarning: Data with input dtype int64, float64 were all converted to float64 by StandardScaler.\n",
      "  \"\"\"Entry point for launching an IPython kernel.\n"
     ]
    }
   ],
   "source": [
    "final_predict = model3.predict(sc.transform(test_with_rider_info1))\n",
    "test_with_rider_info['Time from Pickup to Arrival'] = final_predict\n",
    "\n"
   ]
  },
  {
   "cell_type": "code",
   "execution_count": 131,
   "metadata": {},
   "outputs": [
    {
     "name": "stderr",
     "output_type": "stream",
     "text": [
      "/anaconda3/lib/python3.7/site-packages/ipykernel_launcher.py:2: SettingWithCopyWarning: \n",
      "A value is trying to be set on a copy of a slice from a DataFrame.\n",
      "Try using .loc[row_indexer,col_indexer] = value instead\n",
      "\n",
      "See the caveats in the documentation: http://pandas.pydata.org/pandas-docs/stable/indexing.html#indexing-view-versus-copy\n",
      "  \n"
     ]
    }
   ],
   "source": [
    "submission = test_with_rider_info[['Order No','Time from Pickup to Arrival' ]]\n",
    "submission['Time from Pickup to Arrival'] = submission['Time from Pickup to Arrival'].astype(int)\n"
   ]
  },
  {
   "cell_type": "code",
   "execution_count": 132,
   "metadata": {},
   "outputs": [],
   "source": [
    "submission.to_csv('Data/model3.csv', index=False)\n"
   ]
  },
  {
   "cell_type": "code",
   "execution_count": null,
   "metadata": {},
   "outputs": [],
   "source": []
  }
 ],
 "metadata": {
  "kernelspec": {
   "display_name": "Python 3",
   "language": "python",
   "name": "python3"
  },
  "language_info": {
   "codemirror_mode": {
    "name": "ipython",
    "version": 3
   },
   "file_extension": ".py",
   "mimetype": "text/x-python",
   "name": "python",
   "nbconvert_exporter": "python",
   "pygments_lexer": "ipython3",
   "version": "3.7.1"
  }
 },
 "nbformat": 4,
 "nbformat_minor": 2
}
